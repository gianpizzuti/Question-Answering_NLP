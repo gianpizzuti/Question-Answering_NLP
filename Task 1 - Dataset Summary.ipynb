{
  "cells": [
    {
      "cell_type": "markdown",
      "metadata": {
        "id": "aEJRurhBw6yk"
      },
      "source": [
        "# NLP Project 2024 - Dataset summary\n",
        "This is the final course project for the NLP (Natural Language Processing) course, taught by Mark Carman in Politecnico\n",
        "di Milano (spring 2024). The chosen dataset is the [Medical Meadow Medical Flashcards](https://huggingface.co/datasets/medalpaca/medical_meadow_medical_flashcards).\n",
        "\n"
      ]
    },
    {
      "cell_type": "markdown",
      "metadata": {
        "id": "8jXIlAjMw6yp"
      },
      "source": [
        "This dataset is part of a collection of datasets called Medical Meadow, created by [Han et al., 2023](https://arxiv.org/pdf/2304.08247.pdf) for fine-tuning LLM models on question answering tasks and evaluating corresponding performances."
      ]
    },
    {
      "cell_type": "markdown",
      "metadata": {
        "id": "NMAySBXzw6yr"
      },
      "source": [
        "## 0) Imports"
      ]
    },
    {
      "cell_type": "code",
      "source": [
        "from google.colab import drive\n",
        "drive.mount('/content/drive')\n",
        "%cd drive/My Drive/Colab Notebooks/NLP"
      ],
      "metadata": {
        "colab": {
          "base_uri": "https://localhost:8080/"
        },
        "id": "B4gYOzamw8dY",
        "outputId": "7b4a14c8-fe9a-489c-cc95-160bde773cd1"
      },
      "execution_count": null,
      "outputs": [
        {
          "output_type": "stream",
          "name": "stdout",
          "text": [
            "Drive already mounted at /content/drive; to attempt to forcibly remount, call drive.mount(\"/content/drive\", force_remount=True).\n",
            "[Errno 2] No such file or directory: 'drive/My Drive/Colab Notebooks/NLP'\n",
            "/content/drive/My Drive/Colab Notebooks/NLP\n"
          ]
        }
      ]
    },
    {
      "cell_type": "code",
      "execution_count": null,
      "metadata": {
        "colab": {
          "base_uri": "https://localhost:8080/"
        },
        "id": "iS4P5qNFw6yu",
        "outputId": "6c70a5ad-9515-417f-a0c6-8099ec6c1e59"
      },
      "outputs": [
        {
          "output_type": "stream",
          "name": "stdout",
          "text": [
            "Requirement already satisfied: numpy in /usr/local/lib/python3.10/dist-packages (1.25.2)\n",
            "Requirement already satisfied: nltk in /usr/local/lib/python3.10/dist-packages (3.8.1)\n",
            "Requirement already satisfied: scikit-learn in /usr/local/lib/python3.10/dist-packages (1.2.2)\n",
            "Requirement already satisfied: matplotlib in /usr/local/lib/python3.10/dist-packages (3.7.1)\n",
            "Requirement already satisfied: pandas in /usr/local/lib/python3.10/dist-packages (2.0.3)\n",
            "Requirement already satisfied: click in /usr/local/lib/python3.10/dist-packages (from nltk) (8.1.7)\n",
            "Requirement already satisfied: joblib in /usr/local/lib/python3.10/dist-packages (from nltk) (1.4.0)\n",
            "Requirement already satisfied: regex>=2021.8.3 in /usr/local/lib/python3.10/dist-packages (from nltk) (2023.12.25)\n",
            "Requirement already satisfied: tqdm in /usr/local/lib/python3.10/dist-packages (from nltk) (4.66.2)\n",
            "Requirement already satisfied: scipy>=1.3.2 in /usr/local/lib/python3.10/dist-packages (from scikit-learn) (1.11.4)\n",
            "Requirement already satisfied: threadpoolctl>=2.0.0 in /usr/local/lib/python3.10/dist-packages (from scikit-learn) (3.5.0)\n",
            "Requirement already satisfied: contourpy>=1.0.1 in /usr/local/lib/python3.10/dist-packages (from matplotlib) (1.2.1)\n",
            "Requirement already satisfied: cycler>=0.10 in /usr/local/lib/python3.10/dist-packages (from matplotlib) (0.12.1)\n",
            "Requirement already satisfied: fonttools>=4.22.0 in /usr/local/lib/python3.10/dist-packages (from matplotlib) (4.51.0)\n",
            "Requirement already satisfied: kiwisolver>=1.0.1 in /usr/local/lib/python3.10/dist-packages (from matplotlib) (1.4.5)\n",
            "Requirement already satisfied: packaging>=20.0 in /usr/local/lib/python3.10/dist-packages (from matplotlib) (24.0)\n",
            "Requirement already satisfied: pillow>=6.2.0 in /usr/local/lib/python3.10/dist-packages (from matplotlib) (9.4.0)\n",
            "Requirement already satisfied: pyparsing>=2.3.1 in /usr/local/lib/python3.10/dist-packages (from matplotlib) (3.1.2)\n",
            "Requirement already satisfied: python-dateutil>=2.7 in /usr/local/lib/python3.10/dist-packages (from matplotlib) (2.8.2)\n",
            "Requirement already satisfied: pytz>=2020.1 in /usr/local/lib/python3.10/dist-packages (from pandas) (2023.4)\n",
            "Requirement already satisfied: tzdata>=2022.1 in /usr/local/lib/python3.10/dist-packages (from pandas) (2024.1)\n",
            "Requirement already satisfied: six>=1.5 in /usr/local/lib/python3.10/dist-packages (from python-dateutil>=2.7->matplotlib) (1.16.0)\n"
          ]
        }
      ],
      "source": [
        "%pip install numpy nltk scikit-learn matplotlib pandas\n",
        "import os, json\n",
        "import numpy as np\n",
        "import nltk\n",
        "import matplotlib as mpl\n",
        "import matplotlib.pyplot as plt\n",
        "import pandas as pd"
      ]
    },
    {
      "cell_type": "markdown",
      "metadata": {
        "id": "3k-dyGbnw6yx"
      },
      "source": [
        "## 1) Preliminary Analysis"
      ]
    },
    {
      "cell_type": "markdown",
      "metadata": {
        "id": "Qss3UWj0w6yy"
      },
      "source": [
        "This dataset comprises a collection of questions coming from an open source list of Anki flashcards (the *Anki Medical Curriculum*), created, mantained and used by medicine students, spanning many subjects, such as anatomy, physiology, pathology, pharmacology,\n",
        "and more.\\\n",
        "The dataset, due to its use, is mainly composed of short Q&A pairs, usually summarizing very briefly a subject that could be explained in a much more detailed way. This could be a negative aspect for NLP models, because of the lack of content."
      ]
    },
    {
      "cell_type": "markdown",
      "metadata": {
        "id": "DgyLVrNHw6yz"
      },
      "source": [
        "### 1.1) Dataset loading"
      ]
    },
    {
      "cell_type": "markdown",
      "metadata": {
        "id": "ff3jSOzuw6y0"
      },
      "source": [
        "Since the dataset comes in the json format, let's use the ```json``` library to open it."
      ]
    },
    {
      "cell_type": "code",
      "execution_count": null,
      "metadata": {
        "id": "RqQOd5GKw6y1"
      },
      "outputs": [],
      "source": [
        "with open('medical_meadow_wikidoc_medical_flashcards.json') as f:\n",
        "    dataset = json.load(f)\n",
        "\n",
        "df = pd.DataFrame(dataset)"
      ]
    },
    {
      "cell_type": "markdown",
      "metadata": {
        "id": "idpMebJWw6y3"
      },
      "source": [
        "### 1.2) Dataset visualization"
      ]
    },
    {
      "cell_type": "markdown",
      "metadata": {
        "id": "IGjwjUCTw6y4"
      },
      "source": [
        "Let's visualize how the actual data look like:"
      ]
    },
    {
      "cell_type": "code",
      "execution_count": null,
      "metadata": {
        "colab": {
          "base_uri": "https://localhost:8080/",
          "height": 206
        },
        "id": "p6WvD5vuw6y4",
        "outputId": "b9672748-6a4f-41d6-ddba-606f9f096a3a"
      },
      "outputs": [
        {
          "output_type": "execute_result",
          "data": {
            "text/plain": [
              "                       instruction  \\\n",
              "0  Answer this question truthfully   \n",
              "1  Answer this question truthfully   \n",
              "2  Answer this question truthfully   \n",
              "3  Answer this question truthfully   \n",
              "4  Answer this question truthfully   \n",
              "\n",
              "                                               input  \\\n",
              "0  What is the relationship between very low Mg2+...   \n",
              "1  What leads to genitourinary syndrome of menopa...   \n",
              "2  What does low REM sleep latency and experienci...   \n",
              "3  What are some possible causes of low PTH and h...   \n",
              "4  How does the level of anti-müllerian hormone r...   \n",
              "\n",
              "                                              output  \n",
              "0  Very low Mg2+ levels correspond to low PTH lev...  \n",
              "1  Low estradiol production leads to genitourinar...  \n",
              "2  Low REM sleep latency and experiencing halluci...  \n",
              "3  PTH-independent hypercalcemia, which can be ca...  \n",
              "4  The level of anti-müllerian hormone is directl...  "
            ],
            "text/html": [
              "\n",
              "  <div id=\"df-0857507b-a6ce-4739-b0c7-e65216ee5430\" class=\"colab-df-container\">\n",
              "    <div>\n",
              "<style scoped>\n",
              "    .dataframe tbody tr th:only-of-type {\n",
              "        vertical-align: middle;\n",
              "    }\n",
              "\n",
              "    .dataframe tbody tr th {\n",
              "        vertical-align: top;\n",
              "    }\n",
              "\n",
              "    .dataframe thead th {\n",
              "        text-align: right;\n",
              "    }\n",
              "</style>\n",
              "<table border=\"1\" class=\"dataframe\">\n",
              "  <thead>\n",
              "    <tr style=\"text-align: right;\">\n",
              "      <th></th>\n",
              "      <th>instruction</th>\n",
              "      <th>input</th>\n",
              "      <th>output</th>\n",
              "    </tr>\n",
              "  </thead>\n",
              "  <tbody>\n",
              "    <tr>\n",
              "      <th>0</th>\n",
              "      <td>Answer this question truthfully</td>\n",
              "      <td>What is the relationship between very low Mg2+...</td>\n",
              "      <td>Very low Mg2+ levels correspond to low PTH lev...</td>\n",
              "    </tr>\n",
              "    <tr>\n",
              "      <th>1</th>\n",
              "      <td>Answer this question truthfully</td>\n",
              "      <td>What leads to genitourinary syndrome of menopa...</td>\n",
              "      <td>Low estradiol production leads to genitourinar...</td>\n",
              "    </tr>\n",
              "    <tr>\n",
              "      <th>2</th>\n",
              "      <td>Answer this question truthfully</td>\n",
              "      <td>What does low REM sleep latency and experienci...</td>\n",
              "      <td>Low REM sleep latency and experiencing halluci...</td>\n",
              "    </tr>\n",
              "    <tr>\n",
              "      <th>3</th>\n",
              "      <td>Answer this question truthfully</td>\n",
              "      <td>What are some possible causes of low PTH and h...</td>\n",
              "      <td>PTH-independent hypercalcemia, which can be ca...</td>\n",
              "    </tr>\n",
              "    <tr>\n",
              "      <th>4</th>\n",
              "      <td>Answer this question truthfully</td>\n",
              "      <td>How does the level of anti-müllerian hormone r...</td>\n",
              "      <td>The level of anti-müllerian hormone is directl...</td>\n",
              "    </tr>\n",
              "  </tbody>\n",
              "</table>\n",
              "</div>\n",
              "    <div class=\"colab-df-buttons\">\n",
              "\n",
              "  <div class=\"colab-df-container\">\n",
              "    <button class=\"colab-df-convert\" onclick=\"convertToInteractive('df-0857507b-a6ce-4739-b0c7-e65216ee5430')\"\n",
              "            title=\"Convert this dataframe to an interactive table.\"\n",
              "            style=\"display:none;\">\n",
              "\n",
              "  <svg xmlns=\"http://www.w3.org/2000/svg\" height=\"24px\" viewBox=\"0 -960 960 960\">\n",
              "    <path d=\"M120-120v-720h720v720H120Zm60-500h600v-160H180v160Zm220 220h160v-160H400v160Zm0 220h160v-160H400v160ZM180-400h160v-160H180v160Zm440 0h160v-160H620v160ZM180-180h160v-160H180v160Zm440 0h160v-160H620v160Z\"/>\n",
              "  </svg>\n",
              "    </button>\n",
              "\n",
              "  <style>\n",
              "    .colab-df-container {\n",
              "      display:flex;\n",
              "      gap: 12px;\n",
              "    }\n",
              "\n",
              "    .colab-df-convert {\n",
              "      background-color: #E8F0FE;\n",
              "      border: none;\n",
              "      border-radius: 50%;\n",
              "      cursor: pointer;\n",
              "      display: none;\n",
              "      fill: #1967D2;\n",
              "      height: 32px;\n",
              "      padding: 0 0 0 0;\n",
              "      width: 32px;\n",
              "    }\n",
              "\n",
              "    .colab-df-convert:hover {\n",
              "      background-color: #E2EBFA;\n",
              "      box-shadow: 0px 1px 2px rgba(60, 64, 67, 0.3), 0px 1px 3px 1px rgba(60, 64, 67, 0.15);\n",
              "      fill: #174EA6;\n",
              "    }\n",
              "\n",
              "    .colab-df-buttons div {\n",
              "      margin-bottom: 4px;\n",
              "    }\n",
              "\n",
              "    [theme=dark] .colab-df-convert {\n",
              "      background-color: #3B4455;\n",
              "      fill: #D2E3FC;\n",
              "    }\n",
              "\n",
              "    [theme=dark] .colab-df-convert:hover {\n",
              "      background-color: #434B5C;\n",
              "      box-shadow: 0px 1px 3px 1px rgba(0, 0, 0, 0.15);\n",
              "      filter: drop-shadow(0px 1px 2px rgba(0, 0, 0, 0.3));\n",
              "      fill: #FFFFFF;\n",
              "    }\n",
              "  </style>\n",
              "\n",
              "    <script>\n",
              "      const buttonEl =\n",
              "        document.querySelector('#df-0857507b-a6ce-4739-b0c7-e65216ee5430 button.colab-df-convert');\n",
              "      buttonEl.style.display =\n",
              "        google.colab.kernel.accessAllowed ? 'block' : 'none';\n",
              "\n",
              "      async function convertToInteractive(key) {\n",
              "        const element = document.querySelector('#df-0857507b-a6ce-4739-b0c7-e65216ee5430');\n",
              "        const dataTable =\n",
              "          await google.colab.kernel.invokeFunction('convertToInteractive',\n",
              "                                                    [key], {});\n",
              "        if (!dataTable) return;\n",
              "\n",
              "        const docLinkHtml = 'Like what you see? Visit the ' +\n",
              "          '<a target=\"_blank\" href=https://colab.research.google.com/notebooks/data_table.ipynb>data table notebook</a>'\n",
              "          + ' to learn more about interactive tables.';\n",
              "        element.innerHTML = '';\n",
              "        dataTable['output_type'] = 'display_data';\n",
              "        await google.colab.output.renderOutput(dataTable, element);\n",
              "        const docLink = document.createElement('div');\n",
              "        docLink.innerHTML = docLinkHtml;\n",
              "        element.appendChild(docLink);\n",
              "      }\n",
              "    </script>\n",
              "  </div>\n",
              "\n",
              "\n",
              "<div id=\"df-bd1cb9b3-7c2e-43fe-8384-dee27d8061f4\">\n",
              "  <button class=\"colab-df-quickchart\" onclick=\"quickchart('df-bd1cb9b3-7c2e-43fe-8384-dee27d8061f4')\"\n",
              "            title=\"Suggest charts\"\n",
              "            style=\"display:none;\">\n",
              "\n",
              "<svg xmlns=\"http://www.w3.org/2000/svg\" height=\"24px\"viewBox=\"0 0 24 24\"\n",
              "     width=\"24px\">\n",
              "    <g>\n",
              "        <path d=\"M19 3H5c-1.1 0-2 .9-2 2v14c0 1.1.9 2 2 2h14c1.1 0 2-.9 2-2V5c0-1.1-.9-2-2-2zM9 17H7v-7h2v7zm4 0h-2V7h2v10zm4 0h-2v-4h2v4z\"/>\n",
              "    </g>\n",
              "</svg>\n",
              "  </button>\n",
              "\n",
              "<style>\n",
              "  .colab-df-quickchart {\n",
              "      --bg-color: #E8F0FE;\n",
              "      --fill-color: #1967D2;\n",
              "      --hover-bg-color: #E2EBFA;\n",
              "      --hover-fill-color: #174EA6;\n",
              "      --disabled-fill-color: #AAA;\n",
              "      --disabled-bg-color: #DDD;\n",
              "  }\n",
              "\n",
              "  [theme=dark] .colab-df-quickchart {\n",
              "      --bg-color: #3B4455;\n",
              "      --fill-color: #D2E3FC;\n",
              "      --hover-bg-color: #434B5C;\n",
              "      --hover-fill-color: #FFFFFF;\n",
              "      --disabled-bg-color: #3B4455;\n",
              "      --disabled-fill-color: #666;\n",
              "  }\n",
              "\n",
              "  .colab-df-quickchart {\n",
              "    background-color: var(--bg-color);\n",
              "    border: none;\n",
              "    border-radius: 50%;\n",
              "    cursor: pointer;\n",
              "    display: none;\n",
              "    fill: var(--fill-color);\n",
              "    height: 32px;\n",
              "    padding: 0;\n",
              "    width: 32px;\n",
              "  }\n",
              "\n",
              "  .colab-df-quickchart:hover {\n",
              "    background-color: var(--hover-bg-color);\n",
              "    box-shadow: 0 1px 2px rgba(60, 64, 67, 0.3), 0 1px 3px 1px rgba(60, 64, 67, 0.15);\n",
              "    fill: var(--button-hover-fill-color);\n",
              "  }\n",
              "\n",
              "  .colab-df-quickchart-complete:disabled,\n",
              "  .colab-df-quickchart-complete:disabled:hover {\n",
              "    background-color: var(--disabled-bg-color);\n",
              "    fill: var(--disabled-fill-color);\n",
              "    box-shadow: none;\n",
              "  }\n",
              "\n",
              "  .colab-df-spinner {\n",
              "    border: 2px solid var(--fill-color);\n",
              "    border-color: transparent;\n",
              "    border-bottom-color: var(--fill-color);\n",
              "    animation:\n",
              "      spin 1s steps(1) infinite;\n",
              "  }\n",
              "\n",
              "  @keyframes spin {\n",
              "    0% {\n",
              "      border-color: transparent;\n",
              "      border-bottom-color: var(--fill-color);\n",
              "      border-left-color: var(--fill-color);\n",
              "    }\n",
              "    20% {\n",
              "      border-color: transparent;\n",
              "      border-left-color: var(--fill-color);\n",
              "      border-top-color: var(--fill-color);\n",
              "    }\n",
              "    30% {\n",
              "      border-color: transparent;\n",
              "      border-left-color: var(--fill-color);\n",
              "      border-top-color: var(--fill-color);\n",
              "      border-right-color: var(--fill-color);\n",
              "    }\n",
              "    40% {\n",
              "      border-color: transparent;\n",
              "      border-right-color: var(--fill-color);\n",
              "      border-top-color: var(--fill-color);\n",
              "    }\n",
              "    60% {\n",
              "      border-color: transparent;\n",
              "      border-right-color: var(--fill-color);\n",
              "    }\n",
              "    80% {\n",
              "      border-color: transparent;\n",
              "      border-right-color: var(--fill-color);\n",
              "      border-bottom-color: var(--fill-color);\n",
              "    }\n",
              "    90% {\n",
              "      border-color: transparent;\n",
              "      border-bottom-color: var(--fill-color);\n",
              "    }\n",
              "  }\n",
              "</style>\n",
              "\n",
              "  <script>\n",
              "    async function quickchart(key) {\n",
              "      const quickchartButtonEl =\n",
              "        document.querySelector('#' + key + ' button');\n",
              "      quickchartButtonEl.disabled = true;  // To prevent multiple clicks.\n",
              "      quickchartButtonEl.classList.add('colab-df-spinner');\n",
              "      try {\n",
              "        const charts = await google.colab.kernel.invokeFunction(\n",
              "            'suggestCharts', [key], {});\n",
              "      } catch (error) {\n",
              "        console.error('Error during call to suggestCharts:', error);\n",
              "      }\n",
              "      quickchartButtonEl.classList.remove('colab-df-spinner');\n",
              "      quickchartButtonEl.classList.add('colab-df-quickchart-complete');\n",
              "    }\n",
              "    (() => {\n",
              "      let quickchartButtonEl =\n",
              "        document.querySelector('#df-bd1cb9b3-7c2e-43fe-8384-dee27d8061f4 button');\n",
              "      quickchartButtonEl.style.display =\n",
              "        google.colab.kernel.accessAllowed ? 'block' : 'none';\n",
              "    })();\n",
              "  </script>\n",
              "</div>\n",
              "    </div>\n",
              "  </div>\n"
            ],
            "application/vnd.google.colaboratory.intrinsic+json": {
              "type": "dataframe",
              "variable_name": "df",
              "summary": "{\n  \"name\": \"df\",\n  \"rows\": 33955,\n  \"fields\": [\n    {\n      \"column\": \"instruction\",\n      \"properties\": {\n        \"dtype\": \"category\",\n        \"num_unique_values\": 1,\n        \"samples\": [\n          \"Answer this question truthfully\"\n        ],\n        \"semantic_type\": \"\",\n        \"description\": \"\"\n      }\n    },\n    {\n      \"column\": \"input\",\n      \"properties\": {\n        \"dtype\": \"string\",\n        \"num_unique_values\": 33289,\n        \"samples\": [\n          \"In cloning, what is the next step after the production of cDNA, and what is the purpose of the vector used in this step?\"\n        ],\n        \"semantic_type\": \"\",\n        \"description\": \"\"\n      }\n    },\n    {\n      \"column\": \"output\",\n      \"properties\": {\n        \"dtype\": \"string\",\n        \"num_unique_values\": 33335,\n        \"samples\": [\n          \"Methylmercury is the compound found in swordfish, shark, and king mackerel that is known to cause neurotoxicity in the fetus.\"\n        ],\n        \"semantic_type\": \"\",\n        \"description\": \"\"\n      }\n    }\n  ]\n}"
            }
          },
          "metadata": {},
          "execution_count": 24
        }
      ],
      "source": [
        "df.head(5)"
      ]
    },
    {
      "cell_type": "markdown",
      "metadata": {
        "id": "bgtZLpnnw6y5"
      },
      "source": [
        "We can notice the structure of the dataset: each json object includes an *input*, that corresponds to the question on the flashcard, and an *output*, which is the corresponding answer. Every datum also includes an *instruction* string which appears to be identical for all the dataset, that simply prescribes to answer truthfully, and it is not of great interest for us:"
      ]
    },
    {
      "cell_type": "code",
      "execution_count": null,
      "metadata": {
        "colab": {
          "base_uri": "https://localhost:8080/"
        },
        "id": "Xcl7uCv-w6y6",
        "outputId": "1976691d-ce82-444e-f9eb-35e8e546e1f6"
      },
      "outputs": [
        {
          "output_type": "execute_result",
          "data": {
            "text/plain": [
              "True"
            ]
          },
          "metadata": {},
          "execution_count": 25
        }
      ],
      "source": [
        "np.all([data['instruction'] == 'Answer this question truthfully' for data in dataset])"
      ]
    },
    {
      "cell_type": "markdown",
      "metadata": {
        "id": "2-Z-I7ADw6y7"
      },
      "source": [
        "It is indeed identical, hence we can get rid of it:"
      ]
    },
    {
      "cell_type": "code",
      "execution_count": null,
      "metadata": {
        "colab": {
          "base_uri": "https://localhost:8080/",
          "height": 206
        },
        "id": "OwO0eWmpw6y7",
        "outputId": "b919636d-5cd4-45aa-b1fc-580763952ee3"
      },
      "outputs": [
        {
          "output_type": "execute_result",
          "data": {
            "text/plain": [
              "                                               input  \\\n",
              "0  What is the relationship between very low Mg2+...   \n",
              "1  What leads to genitourinary syndrome of menopa...   \n",
              "2  What does low REM sleep latency and experienci...   \n",
              "3  What are some possible causes of low PTH and h...   \n",
              "4  How does the level of anti-müllerian hormone r...   \n",
              "\n",
              "                                              output  \n",
              "0  Very low Mg2+ levels correspond to low PTH lev...  \n",
              "1  Low estradiol production leads to genitourinar...  \n",
              "2  Low REM sleep latency and experiencing halluci...  \n",
              "3  PTH-independent hypercalcemia, which can be ca...  \n",
              "4  The level of anti-müllerian hormone is directl...  "
            ],
            "text/html": [
              "\n",
              "  <div id=\"df-2b241658-a759-4635-92d0-fce330cf45fd\" class=\"colab-df-container\">\n",
              "    <div>\n",
              "<style scoped>\n",
              "    .dataframe tbody tr th:only-of-type {\n",
              "        vertical-align: middle;\n",
              "    }\n",
              "\n",
              "    .dataframe tbody tr th {\n",
              "        vertical-align: top;\n",
              "    }\n",
              "\n",
              "    .dataframe thead th {\n",
              "        text-align: right;\n",
              "    }\n",
              "</style>\n",
              "<table border=\"1\" class=\"dataframe\">\n",
              "  <thead>\n",
              "    <tr style=\"text-align: right;\">\n",
              "      <th></th>\n",
              "      <th>input</th>\n",
              "      <th>output</th>\n",
              "    </tr>\n",
              "  </thead>\n",
              "  <tbody>\n",
              "    <tr>\n",
              "      <th>0</th>\n",
              "      <td>What is the relationship between very low Mg2+...</td>\n",
              "      <td>Very low Mg2+ levels correspond to low PTH lev...</td>\n",
              "    </tr>\n",
              "    <tr>\n",
              "      <th>1</th>\n",
              "      <td>What leads to genitourinary syndrome of menopa...</td>\n",
              "      <td>Low estradiol production leads to genitourinar...</td>\n",
              "    </tr>\n",
              "    <tr>\n",
              "      <th>2</th>\n",
              "      <td>What does low REM sleep latency and experienci...</td>\n",
              "      <td>Low REM sleep latency and experiencing halluci...</td>\n",
              "    </tr>\n",
              "    <tr>\n",
              "      <th>3</th>\n",
              "      <td>What are some possible causes of low PTH and h...</td>\n",
              "      <td>PTH-independent hypercalcemia, which can be ca...</td>\n",
              "    </tr>\n",
              "    <tr>\n",
              "      <th>4</th>\n",
              "      <td>How does the level of anti-müllerian hormone r...</td>\n",
              "      <td>The level of anti-müllerian hormone is directl...</td>\n",
              "    </tr>\n",
              "  </tbody>\n",
              "</table>\n",
              "</div>\n",
              "    <div class=\"colab-df-buttons\">\n",
              "\n",
              "  <div class=\"colab-df-container\">\n",
              "    <button class=\"colab-df-convert\" onclick=\"convertToInteractive('df-2b241658-a759-4635-92d0-fce330cf45fd')\"\n",
              "            title=\"Convert this dataframe to an interactive table.\"\n",
              "            style=\"display:none;\">\n",
              "\n",
              "  <svg xmlns=\"http://www.w3.org/2000/svg\" height=\"24px\" viewBox=\"0 -960 960 960\">\n",
              "    <path d=\"M120-120v-720h720v720H120Zm60-500h600v-160H180v160Zm220 220h160v-160H400v160Zm0 220h160v-160H400v160ZM180-400h160v-160H180v160Zm440 0h160v-160H620v160ZM180-180h160v-160H180v160Zm440 0h160v-160H620v160Z\"/>\n",
              "  </svg>\n",
              "    </button>\n",
              "\n",
              "  <style>\n",
              "    .colab-df-container {\n",
              "      display:flex;\n",
              "      gap: 12px;\n",
              "    }\n",
              "\n",
              "    .colab-df-convert {\n",
              "      background-color: #E8F0FE;\n",
              "      border: none;\n",
              "      border-radius: 50%;\n",
              "      cursor: pointer;\n",
              "      display: none;\n",
              "      fill: #1967D2;\n",
              "      height: 32px;\n",
              "      padding: 0 0 0 0;\n",
              "      width: 32px;\n",
              "    }\n",
              "\n",
              "    .colab-df-convert:hover {\n",
              "      background-color: #E2EBFA;\n",
              "      box-shadow: 0px 1px 2px rgba(60, 64, 67, 0.3), 0px 1px 3px 1px rgba(60, 64, 67, 0.15);\n",
              "      fill: #174EA6;\n",
              "    }\n",
              "\n",
              "    .colab-df-buttons div {\n",
              "      margin-bottom: 4px;\n",
              "    }\n",
              "\n",
              "    [theme=dark] .colab-df-convert {\n",
              "      background-color: #3B4455;\n",
              "      fill: #D2E3FC;\n",
              "    }\n",
              "\n",
              "    [theme=dark] .colab-df-convert:hover {\n",
              "      background-color: #434B5C;\n",
              "      box-shadow: 0px 1px 3px 1px rgba(0, 0, 0, 0.15);\n",
              "      filter: drop-shadow(0px 1px 2px rgba(0, 0, 0, 0.3));\n",
              "      fill: #FFFFFF;\n",
              "    }\n",
              "  </style>\n",
              "\n",
              "    <script>\n",
              "      const buttonEl =\n",
              "        document.querySelector('#df-2b241658-a759-4635-92d0-fce330cf45fd button.colab-df-convert');\n",
              "      buttonEl.style.display =\n",
              "        google.colab.kernel.accessAllowed ? 'block' : 'none';\n",
              "\n",
              "      async function convertToInteractive(key) {\n",
              "        const element = document.querySelector('#df-2b241658-a759-4635-92d0-fce330cf45fd');\n",
              "        const dataTable =\n",
              "          await google.colab.kernel.invokeFunction('convertToInteractive',\n",
              "                                                    [key], {});\n",
              "        if (!dataTable) return;\n",
              "\n",
              "        const docLinkHtml = 'Like what you see? Visit the ' +\n",
              "          '<a target=\"_blank\" href=https://colab.research.google.com/notebooks/data_table.ipynb>data table notebook</a>'\n",
              "          + ' to learn more about interactive tables.';\n",
              "        element.innerHTML = '';\n",
              "        dataTable['output_type'] = 'display_data';\n",
              "        await google.colab.output.renderOutput(dataTable, element);\n",
              "        const docLink = document.createElement('div');\n",
              "        docLink.innerHTML = docLinkHtml;\n",
              "        element.appendChild(docLink);\n",
              "      }\n",
              "    </script>\n",
              "  </div>\n",
              "\n",
              "\n",
              "<div id=\"df-116a6d9f-2fb8-43d1-a165-5f9c528b92aa\">\n",
              "  <button class=\"colab-df-quickchart\" onclick=\"quickchart('df-116a6d9f-2fb8-43d1-a165-5f9c528b92aa')\"\n",
              "            title=\"Suggest charts\"\n",
              "            style=\"display:none;\">\n",
              "\n",
              "<svg xmlns=\"http://www.w3.org/2000/svg\" height=\"24px\"viewBox=\"0 0 24 24\"\n",
              "     width=\"24px\">\n",
              "    <g>\n",
              "        <path d=\"M19 3H5c-1.1 0-2 .9-2 2v14c0 1.1.9 2 2 2h14c1.1 0 2-.9 2-2V5c0-1.1-.9-2-2-2zM9 17H7v-7h2v7zm4 0h-2V7h2v10zm4 0h-2v-4h2v4z\"/>\n",
              "    </g>\n",
              "</svg>\n",
              "  </button>\n",
              "\n",
              "<style>\n",
              "  .colab-df-quickchart {\n",
              "      --bg-color: #E8F0FE;\n",
              "      --fill-color: #1967D2;\n",
              "      --hover-bg-color: #E2EBFA;\n",
              "      --hover-fill-color: #174EA6;\n",
              "      --disabled-fill-color: #AAA;\n",
              "      --disabled-bg-color: #DDD;\n",
              "  }\n",
              "\n",
              "  [theme=dark] .colab-df-quickchart {\n",
              "      --bg-color: #3B4455;\n",
              "      --fill-color: #D2E3FC;\n",
              "      --hover-bg-color: #434B5C;\n",
              "      --hover-fill-color: #FFFFFF;\n",
              "      --disabled-bg-color: #3B4455;\n",
              "      --disabled-fill-color: #666;\n",
              "  }\n",
              "\n",
              "  .colab-df-quickchart {\n",
              "    background-color: var(--bg-color);\n",
              "    border: none;\n",
              "    border-radius: 50%;\n",
              "    cursor: pointer;\n",
              "    display: none;\n",
              "    fill: var(--fill-color);\n",
              "    height: 32px;\n",
              "    padding: 0;\n",
              "    width: 32px;\n",
              "  }\n",
              "\n",
              "  .colab-df-quickchart:hover {\n",
              "    background-color: var(--hover-bg-color);\n",
              "    box-shadow: 0 1px 2px rgba(60, 64, 67, 0.3), 0 1px 3px 1px rgba(60, 64, 67, 0.15);\n",
              "    fill: var(--button-hover-fill-color);\n",
              "  }\n",
              "\n",
              "  .colab-df-quickchart-complete:disabled,\n",
              "  .colab-df-quickchart-complete:disabled:hover {\n",
              "    background-color: var(--disabled-bg-color);\n",
              "    fill: var(--disabled-fill-color);\n",
              "    box-shadow: none;\n",
              "  }\n",
              "\n",
              "  .colab-df-spinner {\n",
              "    border: 2px solid var(--fill-color);\n",
              "    border-color: transparent;\n",
              "    border-bottom-color: var(--fill-color);\n",
              "    animation:\n",
              "      spin 1s steps(1) infinite;\n",
              "  }\n",
              "\n",
              "  @keyframes spin {\n",
              "    0% {\n",
              "      border-color: transparent;\n",
              "      border-bottom-color: var(--fill-color);\n",
              "      border-left-color: var(--fill-color);\n",
              "    }\n",
              "    20% {\n",
              "      border-color: transparent;\n",
              "      border-left-color: var(--fill-color);\n",
              "      border-top-color: var(--fill-color);\n",
              "    }\n",
              "    30% {\n",
              "      border-color: transparent;\n",
              "      border-left-color: var(--fill-color);\n",
              "      border-top-color: var(--fill-color);\n",
              "      border-right-color: var(--fill-color);\n",
              "    }\n",
              "    40% {\n",
              "      border-color: transparent;\n",
              "      border-right-color: var(--fill-color);\n",
              "      border-top-color: var(--fill-color);\n",
              "    }\n",
              "    60% {\n",
              "      border-color: transparent;\n",
              "      border-right-color: var(--fill-color);\n",
              "    }\n",
              "    80% {\n",
              "      border-color: transparent;\n",
              "      border-right-color: var(--fill-color);\n",
              "      border-bottom-color: var(--fill-color);\n",
              "    }\n",
              "    90% {\n",
              "      border-color: transparent;\n",
              "      border-bottom-color: var(--fill-color);\n",
              "    }\n",
              "  }\n",
              "</style>\n",
              "\n",
              "  <script>\n",
              "    async function quickchart(key) {\n",
              "      const quickchartButtonEl =\n",
              "        document.querySelector('#' + key + ' button');\n",
              "      quickchartButtonEl.disabled = true;  // To prevent multiple clicks.\n",
              "      quickchartButtonEl.classList.add('colab-df-spinner');\n",
              "      try {\n",
              "        const charts = await google.colab.kernel.invokeFunction(\n",
              "            'suggestCharts', [key], {});\n",
              "      } catch (error) {\n",
              "        console.error('Error during call to suggestCharts:', error);\n",
              "      }\n",
              "      quickchartButtonEl.classList.remove('colab-df-spinner');\n",
              "      quickchartButtonEl.classList.add('colab-df-quickchart-complete');\n",
              "    }\n",
              "    (() => {\n",
              "      let quickchartButtonEl =\n",
              "        document.querySelector('#df-116a6d9f-2fb8-43d1-a165-5f9c528b92aa button');\n",
              "      quickchartButtonEl.style.display =\n",
              "        google.colab.kernel.accessAllowed ? 'block' : 'none';\n",
              "    })();\n",
              "  </script>\n",
              "</div>\n",
              "    </div>\n",
              "  </div>\n"
            ],
            "application/vnd.google.colaboratory.intrinsic+json": {
              "type": "dataframe",
              "variable_name": "df",
              "summary": "{\n  \"name\": \"df\",\n  \"rows\": 33955,\n  \"fields\": [\n    {\n      \"column\": \"input\",\n      \"properties\": {\n        \"dtype\": \"string\",\n        \"num_unique_values\": 33289,\n        \"samples\": [\n          \"In cloning, what is the next step after the production of cDNA, and what is the purpose of the vector used in this step?\",\n          \"What is testicular torsion and what are the typical symptoms that are seen in adolescents?\",\n          \"What is the cause of the midsystolic click in a murmur due to mitral valve prolapse?\"\n        ],\n        \"semantic_type\": \"\",\n        \"description\": \"\"\n      }\n    },\n    {\n      \"column\": \"output\",\n      \"properties\": {\n        \"dtype\": \"string\",\n        \"num_unique_values\": 33335,\n        \"samples\": [\n          \"Methylmercury is the compound found in swordfish, shark, and king mackerel that is known to cause neurotoxicity in the fetus.\",\n          \"The adrenal medulla is of neural crest origin.\",\n          \"Seizures can occur secondary to low blood sugar.\"\n        ],\n        \"semantic_type\": \"\",\n        \"description\": \"\"\n      }\n    }\n  ]\n}"
            }
          },
          "metadata": {},
          "execution_count": 26
        }
      ],
      "source": [
        "df = df[['input', 'output']]\n",
        "df.head(5)"
      ]
    },
    {
      "cell_type": "markdown",
      "metadata": {
        "id": "EizrLhIhw6y8"
      },
      "source": [
        "We can see if there are some missing values in the dataset, and, if so, remove them (a question without an answer or an answer without a question):"
      ]
    },
    {
      "cell_type": "code",
      "execution_count": null,
      "metadata": {
        "colab": {
          "base_uri": "https://localhost:8080/"
        },
        "id": "bxcnvqFiw6y8",
        "outputId": "cc316280-fbb9-47bf-89ce-83c80245deac"
      },
      "outputs": [
        {
          "output_type": "execute_result",
          "data": {
            "text/plain": [
              "input     408\n",
              "output    402\n",
              "dtype: int64"
            ]
          },
          "metadata": {},
          "execution_count": 27
        }
      ],
      "source": [
        "df.isin(['']).sum()"
      ]
    },
    {
      "cell_type": "markdown",
      "source": [
        "Note that these rows are probably corresponding to the flashcards that were including images, as stated in Han et al.:\n",
        "\n",
        "\n",
        "> In our investigation, we leveraged flashcards as a source to create question-answer\n",
        "pairs for training purposes. Upon **excluding cards containing images**, we harnessed OpenAI’s GPT-3.5-Turbo to\n",
        "restructure the cards into coherent, contextually pertinent question-answer pairs.\n",
        "\n"
      ],
      "metadata": {
        "id": "2I91v5MwyKlk"
      }
    },
    {
      "cell_type": "markdown",
      "metadata": {
        "id": "fjutbVFow6y9"
      },
      "source": [
        "These are the rows corresponding to missing values:"
      ]
    },
    {
      "cell_type": "code",
      "execution_count": null,
      "metadata": {
        "colab": {
          "base_uri": "https://localhost:8080/",
          "height": 424
        },
        "id": "kjk-4VYTw6y9",
        "outputId": "611a06e5-f431-47f0-9101-415aa6f17548"
      },
      "outputs": [
        {
          "output_type": "execute_result",
          "data": {
            "text/plain": [
              "      input                                             output\n",
              "4834         There seems to be an error in the question and...\n",
              "10355                                                         \n",
              "10371                                                         \n",
              "13374                                                         \n",
              "13954                                                         \n",
              "...     ...                                                ...\n",
              "32992                                                         \n",
              "33951                                                         \n",
              "33952                                                         \n",
              "33953                                                         \n",
              "33954                                                         \n",
              "\n",
              "[408 rows x 2 columns]"
            ],
            "text/html": [
              "\n",
              "  <div id=\"df-92432a4e-90c1-4051-8b61-4f422c13393f\" class=\"colab-df-container\">\n",
              "    <div>\n",
              "<style scoped>\n",
              "    .dataframe tbody tr th:only-of-type {\n",
              "        vertical-align: middle;\n",
              "    }\n",
              "\n",
              "    .dataframe tbody tr th {\n",
              "        vertical-align: top;\n",
              "    }\n",
              "\n",
              "    .dataframe thead th {\n",
              "        text-align: right;\n",
              "    }\n",
              "</style>\n",
              "<table border=\"1\" class=\"dataframe\">\n",
              "  <thead>\n",
              "    <tr style=\"text-align: right;\">\n",
              "      <th></th>\n",
              "      <th>input</th>\n",
              "      <th>output</th>\n",
              "    </tr>\n",
              "  </thead>\n",
              "  <tbody>\n",
              "    <tr>\n",
              "      <th>4834</th>\n",
              "      <td></td>\n",
              "      <td>There seems to be an error in the question and...</td>\n",
              "    </tr>\n",
              "    <tr>\n",
              "      <th>10355</th>\n",
              "      <td></td>\n",
              "      <td></td>\n",
              "    </tr>\n",
              "    <tr>\n",
              "      <th>10371</th>\n",
              "      <td></td>\n",
              "      <td></td>\n",
              "    </tr>\n",
              "    <tr>\n",
              "      <th>13374</th>\n",
              "      <td></td>\n",
              "      <td></td>\n",
              "    </tr>\n",
              "    <tr>\n",
              "      <th>13954</th>\n",
              "      <td></td>\n",
              "      <td></td>\n",
              "    </tr>\n",
              "    <tr>\n",
              "      <th>...</th>\n",
              "      <td>...</td>\n",
              "      <td>...</td>\n",
              "    </tr>\n",
              "    <tr>\n",
              "      <th>32992</th>\n",
              "      <td></td>\n",
              "      <td></td>\n",
              "    </tr>\n",
              "    <tr>\n",
              "      <th>33951</th>\n",
              "      <td></td>\n",
              "      <td></td>\n",
              "    </tr>\n",
              "    <tr>\n",
              "      <th>33952</th>\n",
              "      <td></td>\n",
              "      <td></td>\n",
              "    </tr>\n",
              "    <tr>\n",
              "      <th>33953</th>\n",
              "      <td></td>\n",
              "      <td></td>\n",
              "    </tr>\n",
              "    <tr>\n",
              "      <th>33954</th>\n",
              "      <td></td>\n",
              "      <td></td>\n",
              "    </tr>\n",
              "  </tbody>\n",
              "</table>\n",
              "<p>408 rows × 2 columns</p>\n",
              "</div>\n",
              "    <div class=\"colab-df-buttons\">\n",
              "\n",
              "  <div class=\"colab-df-container\">\n",
              "    <button class=\"colab-df-convert\" onclick=\"convertToInteractive('df-92432a4e-90c1-4051-8b61-4f422c13393f')\"\n",
              "            title=\"Convert this dataframe to an interactive table.\"\n",
              "            style=\"display:none;\">\n",
              "\n",
              "  <svg xmlns=\"http://www.w3.org/2000/svg\" height=\"24px\" viewBox=\"0 -960 960 960\">\n",
              "    <path d=\"M120-120v-720h720v720H120Zm60-500h600v-160H180v160Zm220 220h160v-160H400v160Zm0 220h160v-160H400v160ZM180-400h160v-160H180v160Zm440 0h160v-160H620v160ZM180-180h160v-160H180v160Zm440 0h160v-160H620v160Z\"/>\n",
              "  </svg>\n",
              "    </button>\n",
              "\n",
              "  <style>\n",
              "    .colab-df-container {\n",
              "      display:flex;\n",
              "      gap: 12px;\n",
              "    }\n",
              "\n",
              "    .colab-df-convert {\n",
              "      background-color: #E8F0FE;\n",
              "      border: none;\n",
              "      border-radius: 50%;\n",
              "      cursor: pointer;\n",
              "      display: none;\n",
              "      fill: #1967D2;\n",
              "      height: 32px;\n",
              "      padding: 0 0 0 0;\n",
              "      width: 32px;\n",
              "    }\n",
              "\n",
              "    .colab-df-convert:hover {\n",
              "      background-color: #E2EBFA;\n",
              "      box-shadow: 0px 1px 2px rgba(60, 64, 67, 0.3), 0px 1px 3px 1px rgba(60, 64, 67, 0.15);\n",
              "      fill: #174EA6;\n",
              "    }\n",
              "\n",
              "    .colab-df-buttons div {\n",
              "      margin-bottom: 4px;\n",
              "    }\n",
              "\n",
              "    [theme=dark] .colab-df-convert {\n",
              "      background-color: #3B4455;\n",
              "      fill: #D2E3FC;\n",
              "    }\n",
              "\n",
              "    [theme=dark] .colab-df-convert:hover {\n",
              "      background-color: #434B5C;\n",
              "      box-shadow: 0px 1px 3px 1px rgba(0, 0, 0, 0.15);\n",
              "      filter: drop-shadow(0px 1px 2px rgba(0, 0, 0, 0.3));\n",
              "      fill: #FFFFFF;\n",
              "    }\n",
              "  </style>\n",
              "\n",
              "    <script>\n",
              "      const buttonEl =\n",
              "        document.querySelector('#df-92432a4e-90c1-4051-8b61-4f422c13393f button.colab-df-convert');\n",
              "      buttonEl.style.display =\n",
              "        google.colab.kernel.accessAllowed ? 'block' : 'none';\n",
              "\n",
              "      async function convertToInteractive(key) {\n",
              "        const element = document.querySelector('#df-92432a4e-90c1-4051-8b61-4f422c13393f');\n",
              "        const dataTable =\n",
              "          await google.colab.kernel.invokeFunction('convertToInteractive',\n",
              "                                                    [key], {});\n",
              "        if (!dataTable) return;\n",
              "\n",
              "        const docLinkHtml = 'Like what you see? Visit the ' +\n",
              "          '<a target=\"_blank\" href=https://colab.research.google.com/notebooks/data_table.ipynb>data table notebook</a>'\n",
              "          + ' to learn more about interactive tables.';\n",
              "        element.innerHTML = '';\n",
              "        dataTable['output_type'] = 'display_data';\n",
              "        await google.colab.output.renderOutput(dataTable, element);\n",
              "        const docLink = document.createElement('div');\n",
              "        docLink.innerHTML = docLinkHtml;\n",
              "        element.appendChild(docLink);\n",
              "      }\n",
              "    </script>\n",
              "  </div>\n",
              "\n",
              "\n",
              "<div id=\"df-610fff2b-6d32-4223-8f9c-3f509c280f9f\">\n",
              "  <button class=\"colab-df-quickchart\" onclick=\"quickchart('df-610fff2b-6d32-4223-8f9c-3f509c280f9f')\"\n",
              "            title=\"Suggest charts\"\n",
              "            style=\"display:none;\">\n",
              "\n",
              "<svg xmlns=\"http://www.w3.org/2000/svg\" height=\"24px\"viewBox=\"0 0 24 24\"\n",
              "     width=\"24px\">\n",
              "    <g>\n",
              "        <path d=\"M19 3H5c-1.1 0-2 .9-2 2v14c0 1.1.9 2 2 2h14c1.1 0 2-.9 2-2V5c0-1.1-.9-2-2-2zM9 17H7v-7h2v7zm4 0h-2V7h2v10zm4 0h-2v-4h2v4z\"/>\n",
              "    </g>\n",
              "</svg>\n",
              "  </button>\n",
              "\n",
              "<style>\n",
              "  .colab-df-quickchart {\n",
              "      --bg-color: #E8F0FE;\n",
              "      --fill-color: #1967D2;\n",
              "      --hover-bg-color: #E2EBFA;\n",
              "      --hover-fill-color: #174EA6;\n",
              "      --disabled-fill-color: #AAA;\n",
              "      --disabled-bg-color: #DDD;\n",
              "  }\n",
              "\n",
              "  [theme=dark] .colab-df-quickchart {\n",
              "      --bg-color: #3B4455;\n",
              "      --fill-color: #D2E3FC;\n",
              "      --hover-bg-color: #434B5C;\n",
              "      --hover-fill-color: #FFFFFF;\n",
              "      --disabled-bg-color: #3B4455;\n",
              "      --disabled-fill-color: #666;\n",
              "  }\n",
              "\n",
              "  .colab-df-quickchart {\n",
              "    background-color: var(--bg-color);\n",
              "    border: none;\n",
              "    border-radius: 50%;\n",
              "    cursor: pointer;\n",
              "    display: none;\n",
              "    fill: var(--fill-color);\n",
              "    height: 32px;\n",
              "    padding: 0;\n",
              "    width: 32px;\n",
              "  }\n",
              "\n",
              "  .colab-df-quickchart:hover {\n",
              "    background-color: var(--hover-bg-color);\n",
              "    box-shadow: 0 1px 2px rgba(60, 64, 67, 0.3), 0 1px 3px 1px rgba(60, 64, 67, 0.15);\n",
              "    fill: var(--button-hover-fill-color);\n",
              "  }\n",
              "\n",
              "  .colab-df-quickchart-complete:disabled,\n",
              "  .colab-df-quickchart-complete:disabled:hover {\n",
              "    background-color: var(--disabled-bg-color);\n",
              "    fill: var(--disabled-fill-color);\n",
              "    box-shadow: none;\n",
              "  }\n",
              "\n",
              "  .colab-df-spinner {\n",
              "    border: 2px solid var(--fill-color);\n",
              "    border-color: transparent;\n",
              "    border-bottom-color: var(--fill-color);\n",
              "    animation:\n",
              "      spin 1s steps(1) infinite;\n",
              "  }\n",
              "\n",
              "  @keyframes spin {\n",
              "    0% {\n",
              "      border-color: transparent;\n",
              "      border-bottom-color: var(--fill-color);\n",
              "      border-left-color: var(--fill-color);\n",
              "    }\n",
              "    20% {\n",
              "      border-color: transparent;\n",
              "      border-left-color: var(--fill-color);\n",
              "      border-top-color: var(--fill-color);\n",
              "    }\n",
              "    30% {\n",
              "      border-color: transparent;\n",
              "      border-left-color: var(--fill-color);\n",
              "      border-top-color: var(--fill-color);\n",
              "      border-right-color: var(--fill-color);\n",
              "    }\n",
              "    40% {\n",
              "      border-color: transparent;\n",
              "      border-right-color: var(--fill-color);\n",
              "      border-top-color: var(--fill-color);\n",
              "    }\n",
              "    60% {\n",
              "      border-color: transparent;\n",
              "      border-right-color: var(--fill-color);\n",
              "    }\n",
              "    80% {\n",
              "      border-color: transparent;\n",
              "      border-right-color: var(--fill-color);\n",
              "      border-bottom-color: var(--fill-color);\n",
              "    }\n",
              "    90% {\n",
              "      border-color: transparent;\n",
              "      border-bottom-color: var(--fill-color);\n",
              "    }\n",
              "  }\n",
              "</style>\n",
              "\n",
              "  <script>\n",
              "    async function quickchart(key) {\n",
              "      const quickchartButtonEl =\n",
              "        document.querySelector('#' + key + ' button');\n",
              "      quickchartButtonEl.disabled = true;  // To prevent multiple clicks.\n",
              "      quickchartButtonEl.classList.add('colab-df-spinner');\n",
              "      try {\n",
              "        const charts = await google.colab.kernel.invokeFunction(\n",
              "            'suggestCharts', [key], {});\n",
              "      } catch (error) {\n",
              "        console.error('Error during call to suggestCharts:', error);\n",
              "      }\n",
              "      quickchartButtonEl.classList.remove('colab-df-spinner');\n",
              "      quickchartButtonEl.classList.add('colab-df-quickchart-complete');\n",
              "    }\n",
              "    (() => {\n",
              "      let quickchartButtonEl =\n",
              "        document.querySelector('#df-610fff2b-6d32-4223-8f9c-3f509c280f9f button');\n",
              "      quickchartButtonEl.style.display =\n",
              "        google.colab.kernel.accessAllowed ? 'block' : 'none';\n",
              "    })();\n",
              "  </script>\n",
              "</div>\n",
              "    </div>\n",
              "  </div>\n"
            ],
            "application/vnd.google.colaboratory.intrinsic+json": {
              "type": "dataframe",
              "repr_error": "0"
            }
          },
          "metadata": {},
          "execution_count": 28
        }
      ],
      "source": [
        "df[df['input'].isin([''])]"
      ]
    },
    {
      "cell_type": "markdown",
      "metadata": {
        "id": "8pry3kI9w6y9"
      },
      "source": [
        "We could remove these Q&A, as they don't seem interesting (they are probably due to errors in inserting values), at least for now."
      ]
    },
    {
      "cell_type": "code",
      "execution_count": null,
      "metadata": {
        "id": "9AAqrpuRw6y-"
      },
      "outputs": [],
      "source": [
        "df.replace('', np.nan, inplace=True)\n",
        "df = df.dropna()"
      ]
    },
    {
      "cell_type": "markdown",
      "metadata": {
        "id": "P_ng_YEzw6y-"
      },
      "source": [
        "Let's see how many question-answer tuples we have in total:"
      ]
    },
    {
      "cell_type": "code",
      "execution_count": null,
      "metadata": {
        "colab": {
          "base_uri": "https://localhost:8080/"
        },
        "id": "phyCu9ONw6y-",
        "outputId": "c75c171e-70c6-4526-9de1-65974ff248ea"
      },
      "outputs": [
        {
          "output_type": "stream",
          "name": "stdout",
          "text": [
            "Number of question-answer pairs: 33547\n"
          ]
        }
      ],
      "source": [
        "print(f'Number of question-answer pairs: {len(df)}')"
      ]
    },
    {
      "cell_type": "markdown",
      "metadata": {
        "id": "5e1eBjHPw6y_"
      },
      "source": [
        "Let's investigate the vocabulary of the Q&As:"
      ]
    },
    {
      "cell_type": "code",
      "execution_count": null,
      "metadata": {
        "colab": {
          "base_uri": "https://localhost:8080/",
          "height": 472
        },
        "id": "CckKUnR4w6y_",
        "outputId": "3f299954-9b77-4600-cc37-601942715b22"
      },
      "outputs": [
        {
          "output_type": "display_data",
          "data": {
            "text/plain": [
              "<Figure size 640x480 with 1 Axes>"
            ],
            "image/png": "[encoded data removed]"
          },
          "metadata": {}
        }
      ],
      "source": [
        "questions, answers = df['input'], df['output']\n",
        "len_questions, len_answers = [len(q) for q in questions], [len(a) for a in answers]\n",
        "\n",
        "bins = np.histogram(np.hstack((len_questions, len_answers)), bins=40)[1] #get the bin edges\n",
        "plt.hist(len_questions, bins)\n",
        "plt.hist(len_answers, bins, alpha=.9)\n",
        "plt.legend(['Questions\\' length', 'Answers\\' length'])\n",
        "plt.xlabel('Length (words)')\n",
        "plt.ylabel('Occurrencies')\n",
        "plt.title('Distributions of length of raw Q&As')\n",
        "#plt.savefig('figs/length_distributions.png')\n",
        "plt.show()"
      ]
    },
    {
      "cell_type": "markdown",
      "metadata": {
        "id": "FcuWYrv6w6y_"
      },
      "source": [
        "We can notice that the answers' lengths are mainly distributed around two modes, one close to 100 words, and one at around 700 words."
      ]
    },
    {
      "cell_type": "code",
      "execution_count": null,
      "metadata": {
        "colab": {
          "base_uri": "https://localhost:8080/"
        },
        "id": "yX-hHV1Dw6zA",
        "outputId": "3f2bdf35-6fd4-4e66-ac11-48d1ff562d9e"
      },
      "outputs": [
        {
          "output_type": "stream",
          "name": "stdout",
          "text": [
            "Questions vocab size: (min/max/avg/std) 15/401/93.53/35.02\n",
            "Answers vocab size:   (min/max/avg/std) 3/1576/353.30/313.09\n"
          ]
        }
      ],
      "source": [
        "print(f'Questions vocab size: (min/max/avg/std) {min(len_questions)}/{max(len_questions)}/{np.mean(len_questions):.2f}/{np.std(len_questions):.2f}')\n",
        "print(f'Answers vocab size:   (min/max/avg/std) {min(len_answers)}/{max(len_answers)}/{np.mean(len_answers):.2f}/{np.std(len_answers):.2f}')"
      ]
    },
    {
      "cell_type": "markdown",
      "metadata": {
        "id": "e2zbVt-9w6zA"
      },
      "source": [
        "Let's have a look at what very long and very short questions/answers look like:"
      ]
    },
    {
      "cell_type": "code",
      "execution_count": null,
      "metadata": {
        "colab": {
          "base_uri": "https://localhost:8080/"
        },
        "id": "b3ZxHuLjw6zA",
        "outputId": "5d867de0-bb00-4201-df57-b522f0eaa017"
      },
      "outputs": [
        {
          "output_type": "execute_result",
          "data": {
            "text/plain": [
              "('What could be the possible diagnosis for a young adult female who presents with symptoms of symmetric, migratory, polyarticular arthritis/arthralgias (inflammation/pain in multiple joints), brief morning stiffness, painless oral ulcers, splenomegaly (enlarged spleen), and laboratory findings of pancytopenia (low counts of all blood cells), RBCs (red blood cells), and proteinuria (protein in urine)?',\n",
              " 401,\n",
              " 'What is CDKN2A?',\n",
              " 15)"
            ]
          },
          "metadata": {},
          "execution_count": 33
        }
      ],
      "source": [
        "# longest and shortest questions\n",
        "sorted_questions = sorted(questions, key=lambda q: len(q))\n",
        "shortest_q, longest_q = sorted_questions[0], sorted_questions[-1]\n",
        "longest_q, len(longest_q), shortest_q, len(shortest_q)"
      ]
    },
    {
      "cell_type": "code",
      "execution_count": null,
      "metadata": {
        "colab": {
          "base_uri": "https://localhost:8080/"
        },
        "id": "DAy_RNm4w6zB",
        "outputId": "fb24abbe-df1b-42ed-fada-9c49fbf8c69a"
      },
      "outputs": [
        {
          "output_type": "execute_result",
          "data": {
            "text/plain": [
              "(\"Hyperkalemia, or high levels of potassium (K+) in the blood, can cause a prolonged PR interval, loss of the p wave, and wide QRS on ECG.\\n\\nPotassium is an important electrolyte that plays a role in many physiological processes, including muscle and nerve function, fluid balance, and acid-base balance. However, when there is too much potassium in the blood, it can lead to a variety of symptoms and complications.\\n\\nHyperkalemia can affect the heart's electrical conduction system, leading to changes on an electrocardiogram (ECG). Specifically, hyperkalemia can cause a prolonged PR interval, which is the time it takes for the electrical signal to travel from the atria to the ventricles. It can also cause loss of the p wave, which is the first wave on the ECG that represents atrial depolarization, and a wide QRS complex, which represents ventricular depolarization.\\n\\nIn addition to ECG changes, hyperkalemia can cause a range of symptoms, including muscle weakness, paralysis, and cardiac arrest. It can be caused by a variety of factors, including kidney disease, medications, and certain medical conditions. Treatment of hyperkalemia typically involves addressing the underlying cause and administering medications to lower potassium levels.\\n\\nIn summary, hyperkalemia, or high levels of potassium in the blood, can cause changes on an ECG, including a prolonged PR interval, loss of the p wave, and wide QRS complex. It can also cause a range of symptoms and complications, and treatment typically involves addressing the underlying cause and lowering potassium levels.\",\n",
              " 1576,\n",
              " 'No.',\n",
              " 3)"
            ]
          },
          "metadata": {},
          "execution_count": 34
        }
      ],
      "source": [
        "# longest and shortest answers\n",
        "sorted_answers = sorted(answers, key=lambda q: len(q))\n",
        "shortest_a, longest_a = sorted_answers[0], sorted_answers[-1]\n",
        "longest_a, len(longest_a), shortest_a, len(shortest_a)"
      ]
    },
    {
      "cell_type": "markdown",
      "metadata": {
        "id": "3UyFvJrIw6zB"
      },
      "source": [
        "Now, let's employ a ```CountVectorizer``` to get the counts of tokenized vocabulary."
      ]
    },
    {
      "cell_type": "code",
      "execution_count": null,
      "metadata": {
        "id": "PtdNkwq_w6zC"
      },
      "outputs": [],
      "source": [
        "vocab = questions + answers"
      ]
    },
    {
      "cell_type": "code",
      "execution_count": null,
      "metadata": {
        "colab": {
          "base_uri": "https://localhost:8080/"
        },
        "id": "1kFVmZKSw6zC",
        "outputId": "e028afc8-638f-48ec-9aee-1315a9d04489"
      },
      "outputs": [
        {
          "output_type": "execute_result",
          "data": {
            "text/plain": [
              "22855"
            ]
          },
          "metadata": {},
          "execution_count": 36
        }
      ],
      "source": [
        "from sklearn.feature_extraction.text import CountVectorizer\n",
        "vectorizer = CountVectorizer()\n",
        "vectorizer.fit(vocab)\n",
        "len(vectorizer.get_feature_names_out())"
      ]
    },
    {
      "cell_type": "markdown",
      "metadata": {
        "id": "TrSUxosZw6zC"
      },
      "source": [
        "We can also tokenize questions and answers to get a 'clean' dataset; we can then plot the distributions of length of unique tokens for questions and answers, observing a drastic decrease in count values, along with more Gaussian-shaped distributions."
      ]
    },
    {
      "cell_type": "code",
      "execution_count": null,
      "metadata": {
        "colab": {
          "base_uri": "https://localhost:8080/",
          "height": 472
        },
        "id": "B-Q-iMEHw6zD",
        "outputId": "aeca1f6f-b88d-4990-c92b-bc7c5b3f708f"
      },
      "outputs": [
        {
          "output_type": "display_data",
          "data": {
            "text/plain": [
              "<Figure size 640x480 with 1 Axes>"
            ],
            "image/png": "[encoded data removed]"
          },
          "metadata": {}
        }
      ],
      "source": [
        "tokenizer = vectorizer.build_tokenizer()\n",
        "tokenized_questions = [tokenizer(q) for q in questions]\n",
        "tokenized_answers = [tokenizer(a) for a in answers]\n",
        "\n",
        "len_tok_questions, len_tok_answers = [len(q) for q in tokenized_questions], [len(a) for a in tokenized_answers]\n",
        "bins = np.histogram(np.hstack((len_tok_questions, len_tok_answers)), bins=40)[1] #get the bin edges\n",
        "plt.hist(len_questions, bins)\n",
        "plt.hist(len_answers, bins, alpha=.8)\n",
        "plt.legend(['Questions\\' length', 'Answers\\' length'])\n",
        "plt.xlabel('Length (unique tokens)')\n",
        "plt.ylabel('Occurrencies')\n",
        "plt.title('Distributions of single tokens Q&As')\n",
        "#plt.savefig('figs/length_distributions_tokenized.png')\n",
        "plt.show()"
      ]
    },
    {
      "cell_type": "code",
      "execution_count": null,
      "metadata": {
        "colab": {
          "base_uri": "https://localhost:8080/"
        },
        "id": "c-N28erCw6zD",
        "outputId": "ef6018aa-4671-44fd-9afa-7608dea6dc79"
      },
      "outputs": [
        {
          "output_type": "stream",
          "name": "stdout",
          "text": [
            "Questions vocab size: (min/max/avg/std) 3/60/14.59/5.50\n",
            "Answers vocab size:   (min/max/avg/std) 1/233/53.06/47.68\n"
          ]
        }
      ],
      "source": [
        "print(f'Questions vocab size: (min/max/avg/std) {min(len_tok_questions)}/{max(len_tok_questions)}/{np.mean(len_tok_questions):.2f}/{np.std(len_tok_questions):.2f}')\n",
        "print(f'Answers vocab size:   (min/max/avg/std) {min(len_tok_answers)}/{max(len_tok_answers)}/{np.mean(len_tok_answers):.2f}/{np.std(len_tok_answers):.2f}')"
      ]
    },
    {
      "cell_type": "code",
      "execution_count": null,
      "metadata": {
        "colab": {
          "base_uri": "https://localhost:8080/"
        },
        "id": "buPM9RFOw6zD",
        "outputId": "eec50aa3-3a5a-40c8-977d-c1a5bc587a00"
      },
      "outputs": [
        {
          "output_type": "execute_result",
          "data": {
            "text/plain": [
              "[{'input': ['What',\n",
              "   'is',\n",
              "   'the',\n",
              "   'relationship',\n",
              "   'between',\n",
              "   'very',\n",
              "   'low',\n",
              "   'Mg2',\n",
              "   'levels',\n",
              "   'PTH',\n",
              "   'levels',\n",
              "   'and',\n",
              "   'Ca2',\n",
              "   'levels'],\n",
              "  'output': ['Very',\n",
              "   'low',\n",
              "   'Mg2',\n",
              "   'levels',\n",
              "   'correspond',\n",
              "   'to',\n",
              "   'low',\n",
              "   'PTH',\n",
              "   'levels',\n",
              "   'which',\n",
              "   'in',\n",
              "   'turn',\n",
              "   'results',\n",
              "   'in',\n",
              "   'low',\n",
              "   'Ca2',\n",
              "   'levels']},\n",
              " {'input': ['What',\n",
              "   'leads',\n",
              "   'to',\n",
              "   'genitourinary',\n",
              "   'syndrome',\n",
              "   'of',\n",
              "   'menopause',\n",
              "   'atrophic',\n",
              "   'vaginitis'],\n",
              "  'output': ['Low',\n",
              "   'estradiol',\n",
              "   'production',\n",
              "   'leads',\n",
              "   'to',\n",
              "   'genitourinary',\n",
              "   'syndrome',\n",
              "   'of',\n",
              "   'menopause',\n",
              "   'atrophic',\n",
              "   'vaginitis']},\n",
              " {'input': ['What',\n",
              "   'does',\n",
              "   'low',\n",
              "   'REM',\n",
              "   'sleep',\n",
              "   'latency',\n",
              "   'and',\n",
              "   'experiencing',\n",
              "   'hallucinations',\n",
              "   'sleep',\n",
              "   'paralysis',\n",
              "   'suggest'],\n",
              "  'output': ['Low',\n",
              "   'REM',\n",
              "   'sleep',\n",
              "   'latency',\n",
              "   'and',\n",
              "   'experiencing',\n",
              "   'hallucinations',\n",
              "   'sleep',\n",
              "   'paralysis',\n",
              "   'suggests',\n",
              "   'narcolepsy']}]"
            ]
          },
          "metadata": {},
          "execution_count": 39
        }
      ],
      "source": [
        "tokenized_dataset = [{'input': q, 'output': a} for q, a in zip(tokenized_questions, tokenized_answers)]\n",
        "tokenized_dataset[:3]"
      ]
    }
  ],
  "metadata": {
    "kernelspec": {
      "display_name": ".venv",
      "language": "python",
      "name": "python3"
    },
    "language_info": {
      "codemirror_mode": {
        "name": "ipython",
        "version": 3
      },
      "file_extension": ".py",
      "mimetype": "text/x-python",
      "name": "python",
      "nbconvert_exporter": "python",
      "pygments_lexer": "ipython3",
      "version": "3.11.9"
    },
    "colab": {
      "provenance": []
    }
  },
  "nbformat": 4,
  "nbformat_minor": 0
}